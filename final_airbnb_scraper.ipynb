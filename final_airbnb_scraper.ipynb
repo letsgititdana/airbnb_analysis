{
 "cells": [
  {
   "cell_type": "code",
   "execution_count": null,
   "metadata": {
    "collapsed": true
   },
   "outputs": [],
   "source": [
    "from bs4 import BeautifulSoup\n",
    "from lxml import html\n",
    "from selenium import webdriver\n",
    "from selenium.webdriver.common.keys import Keys\n",
    "from selenium.webdriver.chrome import service\n",
    "from selenium.webdriver.common.by import By\n",
    "from selenium.webdriver.chrome.options import Options\n",
    "from selenium.webdriver.common.action_chains import ActionChains\n",
    "from selenium.webdriver.support import expected_conditions as EC\n",
    "from selenium.webdriver.support.ui import WebDriverWait\n",
    "from datetime import date, datetime, timedelta\n",
    "import csv\n",
    "import time\n",
    "import os\n",
    "import random\n",
    "import re\n",
    "\n",
    "def getsource(mode='lxml'):\n",
    "    source = BeautifulSoup(driver.page_source.encode('utf-8'), mode)\n",
    "    return source\n",
    "\n",
    "def bs(data):\n",
    "    data = BeautifulSoup(str(data).encode('utf-8'), 'lxml')\n",
    "    return data\n",
    "\n",
    "def setup():\n",
    "    global driver\n",
    "    try:\n",
    "        driver = webdriver.Remote(service_chrome.service_url, desired_capabilities=chrome_options.to_capabilities())#webdriver.Chrome(chrome_options=chrome_options)\n",
    "    except:\n",
    "        setup()\n",
    "\n",
    "chrome_options = Options()\n",
    "#chrome_options.add_argument(\"--headless\")\n",
    "chrome_options.add_argument(\"--ignore-certificate-errors\")\n",
    "chrome_options.add_argument(\"--ignore-ssl-errors\")\n",
    "chrome_options.add_argument(\"--window-size=1920,1080\")\n",
    "chrome_options.add_argument(\"--log-level=3\")\n",
    "\n",
    "service_chrome = webdriver.chrome.service.Service(r\"/Users/Dana/Downloads/chromedriver\")\n",
    "service_chrome.start()"
   ]
  },
  {
   "cell_type": "code",
   "execution_count": null,
   "metadata": {
    "collapsed": true
   },
   "outputs": [],
   "source": [
    "setup()\n",
    "driver.get(\"https://www.airbnb.co.kr/s/%EC%84%9C%EC%9A%B8%ED%8A%B9%EB%B3%84%EC%8B%9C/homes?refinement_paths%5B%5D=%2Fhomes&allow_override%5B%5D=&checkin=2018-07-28&ne_lat=37.73418950651062&ne_lng=127.23501331566763&price_max=150000&query=%EC%84%9C%EC%9A%B8%ED%8A%B9%EB%B3%84%EC%8B%9C&search_by_map=true&sw_lat=37.2561717078023&sw_lng=126.7008031105895&zoom=10&checkout=2018-07-29&price_min=128000&s_tag=_HDeTmV9\")"
   ]
  },
  {
   "cell_type": "code",
   "execution_count": 3,
   "metadata": {},
   "outputs": [
    {
     "name": "stdout",
     "output_type": "stream",
     "text": [
      "1\n",
      "1\n"
     ]
    }
   ],
   "source": [
    "linklist=[\"https://www.airbnb.co.kr/s/%EC%84%9C%EC%9A%B8%ED%8A%B9%EB%B3%84%EC%8B%9C/homes?refinement_paths%5B%5D=%2Fhomes&allow_override%5B%5D=&checkin=2018-07-28&ne_lat=37.73418950651062&ne_lng=127.23501331566763&price_max=150000&query=%EC%84%9C%EC%9A%B8%ED%8A%B9%EB%B3%84%EC%8B%9C&search_by_map=true&sw_lat=37.2561717078023&sw_lng=126.7008031105895&zoom=10&checkout=2018-07-29&price_min=128000&s_tag=_HDeTmV9\"]\n",
    "while 1:\n",
    "    page = getsource()\n",
    "    linktemp = page.find_all(attrs={\"class\":\"_1mpo9ida\"})\n",
    "    for i in linktemp:\n",
    "        linklist.append(i.find(\"meta\",attrs={\"itemprop\":\"url\"})[\"content\"])\n",
    "    if page.find(\"li\",attrs={\"class\":\"_b8vexar\"}).find(\"svg\"):        \n",
    "        driver.find_element_by_class_name(\"_b8vexar\").find_element_by_tag_name(\"a\").click()\n",
    "        time.sleep(5)\n",
    "    else:\n",
    "        break\n",
    "print(len(linklist))\n",
    "linklist = list(set(linklist))\n",
    "print(len(linklist))"
   ]
  },
  {
   "cell_type": "code",
   "execution_count": 4,
   "metadata": {
    "collapsed": true
   },
   "outputs": [],
   "source": [
    "var_name = [\n",
    "    \"ID_airbnb\",\n",
    "    \"title_airbnb\",\n",
    "    \"district\",\n",
    "    \"number_of_people\",\n",
    "    \"number_of_bedrooms\",\n",
    "    \"number_of_beds\",\n",
    "    \"number_of_bathrooms\",\n",
    "    \"number_of_individual_bathrooms\",\n",
    "    \"number_of_shared_bathrooms\",\n",
    "    \"refund_rule\",\n",
    "    \"number_of_language_of_host\",\n",
    "    \"type_airbnb\",\n",
    "    \"room_price\",\n",
    "    \"cleaning_fee\",\n",
    "    \"service_fee\",\n",
    "    \"number_of_reviews\",\n",
    "    \"overall_rating\",\n",
    "    \"time_stamp\",\n",
    "]"
   ]
  },
  {
   "cell_type": "code",
   "execution_count": 5,
   "metadata": {},
   "outputs": [
    {
     "name": "stdout",
     "output_type": "stream",
     "text": [
      "10\n",
      "20\n",
      "30\n",
      "30\n",
      "40\n",
      "50\n",
      "60\n",
      "70\n",
      "80\n",
      "80\n",
      "90\n",
      "100\n",
      "110\n",
      "120\n",
      "120\n",
      "120\n",
      "120\n",
      "120\n",
      "130\n",
      "140\n",
      "150\n",
      "150\n",
      "160\n",
      "160\n",
      "170\n",
      "170\n",
      "180\n",
      "84\n"
     ]
    }
   ],
   "source": [
    "attr_var_name = []\n",
    "attr_res_list = []\n",
    "reslist = []\n",
    "review_res_list = []\n",
    "c=0\n",
    "err=0\n",
    "err_list = []\n",
    "\n",
    "for i in linklist:\n",
    "    run = 0\n",
    "    while 1:\n",
    "        try:\n",
    "            restemp = []\n",
    "            driver.get(\"https://\"+i)\n",
    "            time.sleep(5)\n",
    "            page = getsource()\n",
    "\n",
    "\n",
    "            #room id\n",
    "            room_id = i[i.find(\"rooms\")+6:i.find(\"?\")]\n",
    "            restemp.append(room_id)\n",
    "\n",
    "\n",
    "            #room name\n",
    "            restemp.append(page.find(attrs={\"id\":\"summary\"}).find(attrs={\"class\":\"_1hpgssa1\"}).find(attrs={\"class\":\"_rpkl38l\"}).find(\"h1\").get_text())\n",
    "            #district\n",
    "            restemp.append(page.find(attrs={\"id\":\"summary\"}).find(attrs={\"class\":\"_1hpgssa1\"}).find(attrs={\"class\":\"_eqfc55u\"}).get_text())\n",
    "\n",
    "\n",
    "            room_str_temp = page.find(attrs={\"id\":\"summary\"}).find_all(attrs={\"class\":\"_1thk0tsb\"})\n",
    "            room_str_list =[0] * 6\n",
    "            for j in room_str_temp:\n",
    "                #number of people\n",
    "                if \"인원\" in j.find(\"span\").get_text():\n",
    "                    room_str_list[0] = j.find(\"span\").get_text().replace(\"인원 \",\"\").replace(\"명\",\"\")\n",
    "\n",
    "                #number of bedroom\n",
    "                if \"침실\" in j.find(\"span\").get_text():\n",
    "                    room_str_list[1] = j.find(\"span\").get_text().replace(\"침실 \",\"\").replace(\"개\",\"\")\n",
    "\n",
    "                #number of beds\n",
    "                if \"침대\" in j.find(\"span\").get_text():\n",
    "                    room_str_list[2] = j.find(\"span\").get_text().replace(\"침대 \",\"\").replace(\"개\",\"\")\n",
    "\n",
    "                #number of bathroom\n",
    "                if \"공동 사용 욕실\" in j.find(\"span\").get_text():\n",
    "                    room_str_list[5] = j.find(\"span\").get_text().replace(\"공동 사용 욕실\",\"\").replace(\" \",\"\").replace(\"개\",\"\")\n",
    "                elif \"단독 사용 욕실\" in j.find(\"span\").get_text():\n",
    "                    room_str_list[4] = j.find(\"span\").get_text().replace(\"단독 사용 욕실\",\"\").replace(\" \",\"\").replace(\"개\",\"\")\n",
    "                elif \"간이 욕실\" in j.find(\"span\").get_text():\n",
    "                    pass\n",
    "                else:\n",
    "                    #number of bathroom\n",
    "                    if \"욕실\" in j.find(\"span\").get_text():\n",
    "                        room_str_list[3] = j.find(\"span\").get_text().replace(\"욕실\",\"\").replace(\" \",\"\").replace(\"개\",\"\")\n",
    "            restemp = restemp + room_str_list\n",
    "\n",
    "\n",
    "            #refund rule\n",
    "            if driver.find_elements_by_xpath('//span[contains(.,\"예약 취소\")]'):\n",
    "                restemp.append(driver.find_element_by_xpath('//span[contains(.,\"예약 취소\")]').find_element_by_xpath(\"..\").find_element_by_xpath(\"..\").find_element_by_xpath(\"..\").find_element_by_xpath(\"../div[2]/div/div\").text)\n",
    "            else:\n",
    "                restemp.append(\"NA\")\n",
    "\n",
    "\n",
    "            #host language\n",
    "            host_profile_temp = [1]\n",
    "            if len(page.find(attrs={\"id\":\"host-profile\"}).find_all(\"span\",attrs={\"class\":\"_y8ard79\"})) > 1:\n",
    "                for j in page.find(attrs={\"id\":\"host-profile\"}).find_all(\"span\",attrs={\"class\":\"_y8ard79\"})[0:-1]:\n",
    "                    if \"언어\" in j.find(\"span\").get_text():\n",
    "                        host_profile_temp[0] = j.find_all(\"span\",recursive=False)[1].get_text().count(\",\")+1\n",
    "                    else:\n",
    "                        pass\n",
    "            restemp += host_profile_temp\n",
    "\n",
    "\n",
    "            #room type\n",
    "            restemp.append(page.find(attrs={\"class\":\"_1k9f13qb\"}).find(\"span\").get_text())\n",
    "\n",
    "\n",
    "            #amenities\n",
    "            ActionChains(driver).move_to_element(driver.find_elements_by_xpath('//span[contains(.,\"편의시설\")]')[1]).click(driver.find_elements_by_xpath('//span[contains(.,\"편의시설\")]')[1]).perform()\n",
    "            time.sleep(3)\n",
    "\n",
    "            page = getsource()\n",
    "            attr_temp_list = [0] * len(attr_var_name)\n",
    "            for j in page.find_all(\"section\")[-1].find_all(\"div\",recursive=False)[0:-1]:\n",
    "                for k in j.find_all(\"div\",recursive=False)[1].find_all(\"div\",recursive=False):\n",
    "                    if k.find(\"div\").find(\"div\").find(\"div\"):\n",
    "                        attr_temp = k.find(\"div\").find(\"div\").find(\"div\").get_text()\n",
    "                        if attr_temp in attr_var_name:\n",
    "                            attr_temp_list[attr_var_name.index(attr_temp)] = 1\n",
    "                        else:\n",
    "                            attr_var_name.append(attr_temp)\n",
    "                            attr_temp_list.append(1)\n",
    "\n",
    "            #price\n",
    "            price_temp = page.find('form',attrs={\"id\":\"book_it_form\"}).find_all(\"div\",recursive=False)[1].find_all(\"div\",recursive=False)\n",
    "            price_temp_list = [\"NA\"]*3\n",
    "            for i in price_temp[0:-1]:\n",
    "                if \"1박\" in i.find(\"div\").find(\"div\").find(\"span\").find(\"span\").get_text():\n",
    "                    price_temp_list[0] = i.find(\"div\").find_all(\"div\",recursive=False)[1].find(\"span\").find(\"span\").find(\"span\").get_text()\n",
    "\n",
    "                if \"청소비\" in i.find(\"div\").find(\"div\").find(\"span\").find(\"span\").get_text():\n",
    "                    price_temp_list[1] = i.find(\"div\").find_all(\"div\",recursive=False)[1].find(\"span\").find(\"span\").find(\"span\").get_text()\n",
    "\n",
    "                if \"수수료\" in i.find(\"div\").find(\"div\").find(\"span\").find(\"span\").get_text():\n",
    "                    price_temp_list[2] = i.find(\"div\").find_all(\"div\",recursive=False)[1].find(\"span\").find(\"span\").find(\"span\").get_text()\n",
    "            restemp += price_temp_list\n",
    "\n",
    "\n",
    "            #number of reviews\n",
    "            if page.find(attrs={\"id\":\"reviews\"}).find(\"span\").find(\"span\"):\n",
    "                restemp.append(page.find(attrs={\"id\":\"reviews\"}).find(\"span\").find(\"span\").get_text().replace(\"후기 \",\"\").replace(\"개\",\"\"))\n",
    "            else:\n",
    "                restemp.append(\"0\")\n",
    "\n",
    "\n",
    "            #rating_overall\n",
    "            if page.find(attrs={\"itemprop\":\"ratingValue\"}):\n",
    "                restemp.append(page.find(attrs={\"itemprop\":\"ratingValue\"})[\"content\"])\n",
    "            else:\n",
    "                restemp.append(\"NA\")\n",
    "\n",
    "\n",
    "            #time stamp\n",
    "            restemp.append(time.strftime(\"%Y_%m_%d_%H:%M\"))       \n",
    "\n",
    "            \n",
    "            if sum(attr_temp_list):\n",
    "                reslist.append(restemp)\n",
    "                attr_res_list.append(attr_temp_list)\n",
    "                c+=1\n",
    "            else:\n",
    "                err_list.append(i)\n",
    "                err += 1\n",
    "            break\n",
    "            \n",
    "            \n",
    "        except:\n",
    "            driver.quit()\n",
    "            setup()\n",
    "            driver.get(\"https://www.airbnb.co.kr/s/%EC%84%9C%EC%9A%B8%ED%8A%B9%EB%B3%84%EC%8B%9C/homes?refinement_paths%5B%5D=%2Fhomes&allow_override%5B%5D=&checkin=2018-07-28&ne_lat=37.73418950651062&ne_lng=127.23501331566763&price_max=150000&query=%EC%84%9C%EC%9A%B8%ED%8A%B9%EB%B3%84%EC%8B%9C&search_by_map=true&sw_lat=37.2561717078023&sw_lng=126.7008031105895&zoom=10&checkout=2018-07-29&price_min=128000&s_tag=_HDeTmV9\")\n",
    "            time.sleep(3)\n",
    "            run += 1\n",
    "        if run > 2:\n",
    "            break\n",
    "    if c%10 == 0:\n",
    "        print(c)\n",
    "\n",
    "print(err)"
   ]
  },
  {
   "cell_type": "code",
   "execution_count": 6,
   "metadata": {},
   "outputs": [
    {
     "data": {
      "text/plain": [
       "184"
      ]
     },
     "execution_count": 6,
     "metadata": {},
     "output_type": "execute_result"
    }
   ],
   "source": [
    "len(reslist)"
   ]
  },
  {
   "cell_type": "code",
   "execution_count": 7,
   "metadata": {},
   "outputs": [
    {
     "data": {
      "text/plain": [
       "['ID_airbnb',\n",
       " 'title_airbnb',\n",
       " 'district',\n",
       " 'number_of_people',\n",
       " 'number_of_bedrooms',\n",
       " 'number_of_beds',\n",
       " 'number_of_bathrooms',\n",
       " 'number_of_individual_bathrooms',\n",
       " 'number_of_shared_bathrooms',\n",
       " 'refund_rule',\n",
       " 'number_of_language_of_host',\n",
       " 'type_airbnb',\n",
       " 'room_price',\n",
       " 'cleaning_fee',\n",
       " 'service_fee',\n",
       " 'number_of_reviews',\n",
       " 'overall_rating',\n",
       " 'time_stamp',\n",
       " '무선 인터넷',\n",
       " '필수품목',\n",
       " '난방',\n",
       " '세탁기',\n",
       " '에어컨',\n",
       " '암막 커튼',\n",
       " '테이블 모서리 보호대',\n",
       " '주방',\n",
       " '아침식사',\n",
       " '커피메이커',\n",
       " '기본 조리 도구',\n",
       " '식기류',\n",
       " '전자레인지',\n",
       " '냉장고',\n",
       " '가스레인지',\n",
       " '여행 가방 보관 가능',\n",
       " '장기 숙박 가능',\n",
       " '샴푸',\n",
       " '구급 상자',\n",
       " '소화기',\n",
       " '화재 감지기',\n",
       " '다리미',\n",
       " '노트북 작업 공간',\n",
       " 'TV',\n",
       " '건물 내 무료 주차',\n",
       " '엘리베이터',\n",
       " '디지털 도어록',\n",
       " '헤어드라이어',\n",
       " '옷걸이',\n",
       " '정원 또는 뒷마당',\n",
       " '일산화탄소 감지기',\n",
       " '케이블 TV',\n",
       " '포켓 와이파이(Pocket wifi)',\n",
       " '온수',\n",
       " '침구',\n",
       " '건조기',\n",
       " '건물 내 유료 주차',\n",
       " '스마트록',\n",
       " '여분의 베개와 담요',\n",
       " '게스트 전용 출입문',\n",
       " '호수나 강과 인접',\n",
       " '실내 벽난로',\n",
       " '외부 주차(유료)',\n",
       " '이더넷(Ethernet) 연결 지원',\n",
       " '식기세척기',\n",
       " '창문 안전장치 설치',\n",
       " '파티오 또는 발코니',\n",
       " '침실문 잠금장치',\n",
       " '자쿠지 욕조',\n",
       " '유아용 식탁의자',\n",
       " '욕조',\n",
       " '어린이용 식기',\n",
       " '오븐',\n",
       " '호스트가 게스트를 맞이함',\n",
       " '전원 콘센트 덮개',\n",
       " '도로 주차(무료)',\n",
       " '바비큐 그릴',\n",
       " '체크아웃 전 청소 필요',\n",
       " '호수로 연결됨',\n",
       " '안내 직원',\n",
       " '단층 주택',\n",
       " '단독 사용하는 거실',\n",
       " '계단 차단문',\n",
       " '어린이용 책과 장난감',\n",
       " '아기 욕조',\n",
       " '열쇠 보관함',\n",
       " '전기차(EV) 충전시설',\n",
       " '헬스장']"
      ]
     },
     "execution_count": 7,
     "metadata": {},
     "output_type": "execute_result"
    }
   ],
   "source": [
    "var_name += attr_var_name\n",
    "len_attr = 0\n",
    "for i in attr_res_list:\n",
    "    len_attr = max(len_attr,len(i))\n",
    "for i in attr_res_list:\n",
    "    while len(i) < len_attr:\n",
    "        i.append(0)\n",
    "\n",
    "var_name"
   ]
  },
  {
   "cell_type": "code",
   "execution_count": 8,
   "metadata": {
    "collapsed": true
   },
   "outputs": [],
   "source": [
    "for i in reslist:\n",
    "    i[1] = i[1].replace(\"\\n\",\"\")"
   ]
  },
  {
   "cell_type": "code",
   "execution_count": 9,
   "metadata": {},
   "outputs": [
    {
     "data": {
      "text/plain": [
       "184"
      ]
     },
     "execution_count": 9,
     "metadata": {},
     "output_type": "execute_result"
    }
   ],
   "source": [
    "len(reslist)"
   ]
  },
  {
   "cell_type": "code",
   "execution_count": 10,
   "metadata": {},
   "outputs": [
    {
     "data": {
      "text/plain": [
       "184"
      ]
     },
     "execution_count": 10,
     "metadata": {},
     "output_type": "execute_result"
    }
   ],
   "source": [
    "len(attr_res_list)"
   ]
  },
  {
   "cell_type": "code",
   "execution_count": 11,
   "metadata": {
    "collapsed": true
   },
   "outputs": [],
   "source": [
    "row = len(reslist)-len(attr_res_list)\n",
    "while row <len(reslist):\n",
    "    reslist[row] = reslist[row]+ attr_res_list[row]\n",
    "    row += 1"
   ]
  },
  {
   "cell_type": "code",
   "execution_count": 12,
   "metadata": {
    "collapsed": true
   },
   "outputs": [],
   "source": [
    "file=open('./airbnb17.txt','w',encoding='utf-8',newline='\\n')\n",
    "\n",
    "for i in linklist:\n",
    "    file.write(i+\",\")\n",
    "    \n",
    "file.close()"
   ]
  },
  {
   "cell_type": "code",
   "execution_count": 13,
   "metadata": {
    "collapsed": true
   },
   "outputs": [],
   "source": [
    "file=open('./airbnb17.csv','w',encoding='utf-8',newline='')\n",
    "cw=csv.writer(file)\n",
    "cw.writerow(var_name)\n",
    "\n",
    "for a in reslist:\n",
    "    cw.writerow(a)\n",
    "    \n",
    "file.close()"
   ]
  },
  {
   "cell_type": "code",
   "execution_count": null,
   "metadata": {
    "collapsed": true
   },
   "outputs": [],
   "source": []
  }
 ],
 "metadata": {
  "celltoolbar": "Raw Cell Format",
  "kernelspec": {
   "display_name": "Python 3",
   "language": "python",
   "name": "python3"
  },
  "language_info": {
   "codemirror_mode": {
    "name": "ipython",
    "version": 3
   },
   "file_extension": ".py",
   "mimetype": "text/x-python",
   "name": "python",
   "nbconvert_exporter": "python",
   "pygments_lexer": "ipython3",
   "version": "3.6.3"
  }
 },
 "nbformat": 4,
 "nbformat_minor": 2
}
